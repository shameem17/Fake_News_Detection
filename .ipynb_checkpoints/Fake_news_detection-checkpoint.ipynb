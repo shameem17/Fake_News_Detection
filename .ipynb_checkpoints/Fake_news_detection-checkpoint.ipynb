{
 "cells": [
  {
   "cell_type": "code",
   "execution_count": 1,
   "metadata": {
    "id": "HziDXQKVXSKS"
   },
   "outputs": [],
   "source": [
    "###Fake news detection\n"
   ]
  },
  {
   "cell_type": "code",
   "execution_count": 2,
   "metadata": {
    "id": "ZhQrj3cbXSKU"
   },
   "outputs": [],
   "source": [
    "import pandas as pd\n",
    "import numpy as np\n",
    "from sklearn.model_selection import train_test_split\n",
    "from sklearn.metrics import classification_report\n",
    "import re\n",
    "import string"
   ]
  },
  {
   "cell_type": "code",
   "execution_count": 3,
   "metadata": {
    "id": "1lufq_s_XSKU"
   },
   "outputs": [],
   "source": [
    "fake_news=pd.read_csv(\"Fake.csv\")\n",
    "true_news=pd.read_csv(\"True.csv\")"
   ]
  },
  {
   "cell_type": "code",
   "execution_count": 4,
   "metadata": {
    "colab": {
     "base_uri": "https://localhost:8080/"
    },
    "executionInfo": {
     "elapsed": 37563,
     "status": "ok",
     "timestamp": 1613575722776,
     "user": {
      "displayName": "Shameem Ahammed",
      "photoUrl": "https://lh3.googleusercontent.com/a-/AOh14GgO8yKoj7mEaiwnyBI6CZbWkG3pa2cIWtUNc4TBIA=s64",
      "userId": "01891840434415274034"
     },
     "user_tz": -360
    },
    "id": "ODpwl85lXSKV",
    "outputId": "bbba1136-cf84-4bed-b8f6-9b13e94b6264"
   },
   "outputs": [
    {
     "data": {
      "text/plain": [
       "((23481, 4), (21417, 4))"
      ]
     },
     "execution_count": 4,
     "metadata": {},
     "output_type": "execute_result"
    }
   ],
   "source": [
    "fake_news.shape,true_news.shape"
   ]
  },
  {
   "cell_type": "code",
   "execution_count": 5,
   "metadata": {
    "id": "vzeFI1wGXSKV"
   },
   "outputs": [],
   "source": [
    "fake_news[\"label\"]=False\n",
    "true_news[\"label\"]=True"
   ]
  },
  {
   "cell_type": "code",
   "execution_count": 6,
   "metadata": {
    "id": "9jf7Nq-8XSKW"
   },
   "outputs": [],
   "source": [
    "fake_manual_testing=fake_news.tail(1000)\n",
    "for i in range(23480,22480,-1):\n",
    "    fake_news.drop([i],axis=0,inplace=True)\n",
    "    \n",
    "true_manual_testing=true_news.tail(1000)\n",
    "for i in range(21416,20416,-1):\n",
    "    true_news.drop([i],axis=0,inplace=True)"
   ]
  },
  {
   "cell_type": "code",
   "execution_count": 7,
   "metadata": {
    "id": "NFG4rbN2XSKW"
   },
   "outputs": [],
   "source": [
    "manual_testing=pd.concat([true_manual_testing, fake_manual_testing], axis=0)"
   ]
  },
  {
   "cell_type": "code",
   "execution_count": null,
   "metadata": {
    "id": "6GAkHVoHXSKW"
   },
   "outputs": [],
   "source": []
  },
  {
   "cell_type": "code",
   "execution_count": 8,
   "metadata": {
    "id": "sUSXAjDPXSKW"
   },
   "outputs": [],
   "source": [
    "marged_data=pd.concat([fake_news, true_news], axis=0)"
   ]
  },
  {
   "cell_type": "code",
   "execution_count": 9,
   "metadata": {
    "id": "Cu2z6cPrXSKX"
   },
   "outputs": [],
   "source": [
    "temp=marged_data.drop([\"title\",\"subject\",\"date\"],axis=1)"
   ]
  },
  {
   "cell_type": "code",
   "execution_count": 10,
   "metadata": {
    "id": "HLWgaISeXSKX"
   },
   "outputs": [],
   "source": [
    "temp=temp.sample(frac=1)"
   ]
  },
  {
   "cell_type": "code",
   "execution_count": 11,
   "metadata": {
    "colab": {
     "base_uri": "https://localhost:8080/"
    },
    "executionInfo": {
     "elapsed": 45655,
     "status": "ok",
     "timestamp": 1613575730898,
     "user": {
      "displayName": "Shameem Ahammed",
      "photoUrl": "https://lh3.googleusercontent.com/a-/AOh14GgO8yKoj7mEaiwnyBI6CZbWkG3pa2cIWtUNc4TBIA=s64",
      "userId": "01891840434415274034"
     },
     "user_tz": -360
    },
    "id": "hMG0_SVxXSKX",
    "outputId": "c6ed9ae6-96ff-4997-d934-5961a727c22f"
   },
   "outputs": [
    {
     "data": {
      "text/plain": [
       "text     0\n",
       "label    0\n",
       "dtype: int64"
      ]
     },
     "execution_count": 11,
     "metadata": {},
     "output_type": "execute_result"
    }
   ],
   "source": [
    "temp.isnull().sum()"
   ]
  },
  {
   "cell_type": "code",
   "execution_count": null,
   "metadata": {
    "id": "TAxCm-wpXSKX"
   },
   "outputs": [],
   "source": [
    "###remove unnecessary content like extra space etc.\n",
    "\n",
    "def word_process(text):\n",
    "    text=text.lower()\n",
    "    text=re.sub('\\[.*?\\]','',text)\n",
    "    text= re.sub(\"\\\\W\",\" \",text)\n",
    "    text=re.sub('http?://\\S+|www\\.\\S+','',text)\n",
    "    text=re.sub('<.*?>+','',text)\n",
    "    text=re.sub('[%s]' %re.escape(string.punctuation),'',text)\n",
    "    text=re.sub('\\n','',text)\n",
    "    text=re.sub('\\w*\\d\\w*','',text)\n",
    "    return text"
   ]
  },
  {
   "cell_type": "code",
   "execution_count": null,
   "metadata": {
    "id": "G8n7NiX6XSKY"
   },
   "outputs": [],
   "source": [
    "temp[\"text\"]=temp[\"text\"].apply(word_process)"
   ]
  },
  {
   "cell_type": "code",
   "execution_count": null,
   "metadata": {
    "id": "Ikuh0FhfXSKY"
   },
   "outputs": [],
   "source": [
    "x=temp[\"text\"]\n",
    "y=temp[\"label\"]"
   ]
  },
  {
   "cell_type": "code",
   "execution_count": null,
   "metadata": {
    "id": "kJYonWDNXSKY"
   },
   "outputs": [],
   "source": [
    "x_train,x_test,y_train,y_test=train_test_split(x,y,random_state=1,test_size=0.8)"
   ]
  },
  {
   "cell_type": "code",
   "execution_count": null,
   "metadata": {
    "id": "nS0JXtGIXSKY"
   },
   "outputs": [],
   "source": [
    "###vectorize\n",
    "from sklearn.feature_extraction.text import TfidfVectorizer"
   ]
  },
  {
   "cell_type": "code",
   "execution_count": null,
   "metadata": {
    "id": "hh2Q2kMNXSKZ"
   },
   "outputs": [],
   "source": [
    "vectorization =TfidfVectorizer()\n",
    "xv_train=vectorization.fit_transform(x_train)\n",
    "xv_test=vectorization.transform(x_test)"
   ]
  },
  {
   "cell_type": "markdown",
   "metadata": {
    "id": "vjkCxXMsXSKa"
   },
   "source": [
    "Random forest classifier"
   ]
  },
  {
   "cell_type": "code",
   "execution_count": null,
   "metadata": {
    "id": "r4aPKayZXSKa"
   },
   "outputs": [],
   "source": [
    "from sklearn.ensemble import RandomForestClassifier"
   ]
  },
  {
   "cell_type": "code",
   "execution_count": null,
   "metadata": {
    "colab": {
     "base_uri": "https://localhost:8080/"
    },
    "executionInfo": {
     "elapsed": 153662,
     "status": "ok",
     "timestamp": 1613575839015,
     "user": {
      "displayName": "Shameem Ahammed",
      "photoUrl": "https://lh3.googleusercontent.com/a-/AOh14GgO8yKoj7mEaiwnyBI6CZbWkG3pa2cIWtUNc4TBIA=s64",
      "userId": "01891840434415274034"
     },
     "user_tz": -360
    },
    "id": "hSLnFVbOXSKb",
    "outputId": "c0b1313e-8c06-439c-e1cd-ac7cf951c128"
   },
   "outputs": [],
   "source": [
    "RFC=RandomForestClassifier(random_state=0)\n",
    "RFC.fit(xv_train,y_train)"
   ]
  },
  {
   "cell_type": "code",
   "execution_count": null,
   "metadata": {
    "colab": {
     "base_uri": "https://localhost:8080/"
    },
    "executionInfo": {
     "elapsed": 157318,
     "status": "ok",
     "timestamp": 1613575842681,
     "user": {
      "displayName": "Shameem Ahammed",
      "photoUrl": "https://lh3.googleusercontent.com/a-/AOh14GgO8yKoj7mEaiwnyBI6CZbWkG3pa2cIWtUNc4TBIA=s64",
      "userId": "01891840434415274034"
     },
     "user_tz": -360
    },
    "id": "1bLNvmnuXSKb",
    "outputId": "aa0251dc-d13d-470d-c1f2-bd97bc801ba5"
   },
   "outputs": [],
   "source": [
    "RFC.score(xv_train,y_train)"
   ]
  },
  {
   "cell_type": "code",
   "execution_count": null,
   "metadata": {},
   "outputs": [],
   "source": []
  },
  {
   "cell_type": "code",
   "execution_count": null,
   "metadata": {
    "id": "eEFFyt9mXSKb"
   },
   "outputs": [],
   "source": [
    "predict_rfc=RFC.predict(xv_test)\n",
    "prob_rfc=RFC.predict_proba(xv_test)\n"
   ]
  },
  {
   "cell_type": "code",
   "execution_count": null,
   "metadata": {
    "colab": {
     "base_uri": "https://localhost:8080/"
    },
    "executionInfo": {
     "elapsed": 160199,
     "status": "ok",
     "timestamp": 1613575845578,
     "user": {
      "displayName": "Shameem Ahammed",
      "photoUrl": "https://lh3.googleusercontent.com/a-/AOh14GgO8yKoj7mEaiwnyBI6CZbWkG3pa2cIWtUNc4TBIA=s64",
      "userId": "01891840434415274034"
     },
     "user_tz": -360
    },
    "id": "3SXDHMtsXSKb",
    "outputId": "bf8e7d64-5e60-419f-d663-e92424ac39fa"
   },
   "outputs": [],
   "source": [
    "print(classification_report(y_test,predict_rfc))"
   ]
  },
  {
   "cell_type": "code",
   "execution_count": null,
   "metadata": {},
   "outputs": [],
   "source": [
    "from sklearn.metrics import accuracy_score\n",
    "score= accuracy_score(y_test, predict_rfc)\n",
    "print(score*100)\n",
    "print(\"%\")"
   ]
  },
  {
   "cell_type": "markdown",
   "metadata": {
    "id": "6dsa22gYXSKc"
   },
   "source": [
    "Manual Testing\n"
   ]
  },
  {
   "cell_type": "code",
   "execution_count": null,
   "metadata": {
    "id": "-Sg8zzBZXSKc"
   },
   "outputs": [],
   "source": [
    "###manual testing\n",
    "\n",
    "def output_label(n):\n",
    "    if n==False:\n",
    "        return \"Fake news\"\n",
    "    else:\n",
    "        return \"True\"\n",
    "    \n",
    "def manual_testing(news):\n",
    "    testing_news={\"text\":[news]}\n",
    "    new_def_test=pd.DataFrame(testing_news)\n",
    "    new_def_test[\"text\"]=new_def_test[\"text\"].apply(word_process)\n",
    "    new_x_test=new_def_test[\"text\"]\n",
    "    new_xv_test= vectorization.transform(new_x_test)\n",
    "    predict_rfc=RFC.predict(new_xv_test)\n",
    "    prob_rfc=RFC.predict_proba(new_xv_test)\n",
    "    b=prob_rfc[0][1]\n",
    "    b*=100\n",
    "      \n",
    "    print(\"\\nRFC Probability of Truthness %0.2f\"%b +\" %\")\n",
    "    return print(\"\\nRFC Prediction: {}\".format(output_label(predict_rfc)))"
   ]
  },
  {
   "cell_type": "code",
   "execution_count": null,
   "metadata": {
    "colab": {
     "base_uri": "https://localhost:8080/"
    },
    "executionInfo": {
     "elapsed": 196798,
     "status": "ok",
     "timestamp": 1613575882191,
     "user": {
      "displayName": "Shameem Ahammed",
      "photoUrl": "https://lh3.googleusercontent.com/a-/AOh14GgO8yKoj7mEaiwnyBI6CZbWkG3pa2cIWtUNc4TBIA=s64",
      "userId": "01891840434415274034"
     },
     "user_tz": -360
    },
    "id": "CrwHkHJZXSKc",
    "outputId": "13d804e8-b807-4278-cea4-c2e14cd35db6",
    "scrolled": true
   },
   "outputs": [],
   "source": [
    "input_news=input(str())\n",
    "manual_testing(input_news)\n"
   ]
  },
  {
   "cell_type": "code",
   "execution_count": null,
   "metadata": {
    "id": "P62J2FxNXSKc"
   },
   "outputs": [],
   "source": []
  }
 ],
 "metadata": {
  "colab": {
   "name": "Fake_news_detection.ipynb",
   "provenance": []
  },
  "kernelspec": {
   "display_name": "Python 3",
   "language": "python",
   "name": "python3"
  },
  "language_info": {
   "codemirror_mode": {
    "name": "ipython",
    "version": 3
   },
   "file_extension": ".py",
   "mimetype": "text/x-python",
   "name": "python",
   "nbconvert_exporter": "python",
   "pygments_lexer": "ipython3",
   "version": "3.6.4"
  }
 },
 "nbformat": 4,
 "nbformat_minor": 1
}
